{
  "nbformat": 4,
  "nbformat_minor": 0,
  "metadata": {
    "colab": {
      "provenance": []
    },
    "kernelspec": {
      "name": "python3",
      "display_name": "Python 3"
    },
    "language_info": {
      "name": "python"
    }
  },
  "cells": [
    {
      "cell_type": "code",
      "execution_count": null,
      "metadata": {
        "colab": {
          "base_uri": "https://localhost:8080/"
        },
        "id": "WXgHh9RxPOHH",
        "outputId": "8025acf4-9d87-45e0-c64e-a6ec32632e73"
      },
      "outputs": [
        {
          "output_type": "stream",
          "name": "stdout",
          "text": [
            "Collecting atproto\n",
            "  Downloading atproto-0.0.61-py3-none-any.whl.metadata (14 kB)\n",
            "Requirement already satisfied: requests in /usr/local/lib/python3.11/dist-packages (2.32.3)\n",
            "Requirement already satisfied: click<9,>=8.1.3 in /usr/local/lib/python3.11/dist-packages (from atproto) (8.2.1)\n",
            "Requirement already satisfied: cryptography<46,>=41.0.7 in /usr/local/lib/python3.11/dist-packages (from atproto) (43.0.3)\n",
            "Collecting dnspython<3,>=2.4.0 (from atproto)\n",
            "  Downloading dnspython-2.7.0-py3-none-any.whl.metadata (5.8 kB)\n",
            "Requirement already satisfied: httpx<0.29.0,>=0.25.0 in /usr/local/lib/python3.11/dist-packages (from atproto) (0.28.1)\n",
            "Collecting libipld<4,>=3.0.1 (from atproto)\n",
            "  Downloading libipld-3.1.1-cp311-cp311-manylinux_2_17_x86_64.manylinux2014_x86_64.whl.metadata (4.2 kB)\n",
            "Requirement already satisfied: pydantic<3,>=2.7 in /usr/local/lib/python3.11/dist-packages (from atproto) (2.11.7)\n",
            "Requirement already satisfied: typing-extensions<5,>=4.8.0 in /usr/local/lib/python3.11/dist-packages (from atproto) (4.14.1)\n",
            "Collecting websockets<14,>=12 (from atproto)\n",
            "  Downloading websockets-13.1-cp311-cp311-manylinux_2_5_x86_64.manylinux1_x86_64.manylinux_2_17_x86_64.manylinux2014_x86_64.whl.metadata (6.8 kB)\n",
            "Requirement already satisfied: charset-normalizer<4,>=2 in /usr/local/lib/python3.11/dist-packages (from requests) (3.4.3)\n",
            "Requirement already satisfied: idna<4,>=2.5 in /usr/local/lib/python3.11/dist-packages (from requests) (3.10)\n",
            "Requirement already satisfied: urllib3<3,>=1.21.1 in /usr/local/lib/python3.11/dist-packages (from requests) (2.5.0)\n",
            "Requirement already satisfied: certifi>=2017.4.17 in /usr/local/lib/python3.11/dist-packages (from requests) (2025.8.3)\n",
            "Requirement already satisfied: cffi>=1.12 in /usr/local/lib/python3.11/dist-packages (from cryptography<46,>=41.0.7->atproto) (1.17.1)\n",
            "Requirement already satisfied: anyio in /usr/local/lib/python3.11/dist-packages (from httpx<0.29.0,>=0.25.0->atproto) (4.10.0)\n",
            "Requirement already satisfied: httpcore==1.* in /usr/local/lib/python3.11/dist-packages (from httpx<0.29.0,>=0.25.0->atproto) (1.0.9)\n",
            "Requirement already satisfied: h11>=0.16 in /usr/local/lib/python3.11/dist-packages (from httpcore==1.*->httpx<0.29.0,>=0.25.0->atproto) (0.16.0)\n",
            "Requirement already satisfied: annotated-types>=0.6.0 in /usr/local/lib/python3.11/dist-packages (from pydantic<3,>=2.7->atproto) (0.7.0)\n",
            "Requirement already satisfied: pydantic-core==2.33.2 in /usr/local/lib/python3.11/dist-packages (from pydantic<3,>=2.7->atproto) (2.33.2)\n",
            "Requirement already satisfied: typing-inspection>=0.4.0 in /usr/local/lib/python3.11/dist-packages (from pydantic<3,>=2.7->atproto) (0.4.1)\n",
            "Requirement already satisfied: pycparser in /usr/local/lib/python3.11/dist-packages (from cffi>=1.12->cryptography<46,>=41.0.7->atproto) (2.22)\n",
            "Requirement already satisfied: sniffio>=1.1 in /usr/local/lib/python3.11/dist-packages (from anyio->httpx<0.29.0,>=0.25.0->atproto) (1.3.1)\n",
            "Downloading atproto-0.0.61-py3-none-any.whl (380 kB)\n",
            "\u001b[2K   \u001b[90m━━━━━━━━━━━━━━━━━━━━━━━━━━━━━━━━━━━━━━━━\u001b[0m \u001b[32m380.4/380.4 kB\u001b[0m \u001b[31m7.8 MB/s\u001b[0m eta \u001b[36m0:00:00\u001b[0m\n",
            "\u001b[?25hDownloading dnspython-2.7.0-py3-none-any.whl (313 kB)\n",
            "\u001b[2K   \u001b[90m━━━━━━━━━━━━━━━━━━━━━━━━━━━━━━━━━━━━━━━━\u001b[0m \u001b[32m313.6/313.6 kB\u001b[0m \u001b[31m16.7 MB/s\u001b[0m eta \u001b[36m0:00:00\u001b[0m\n",
            "\u001b[?25hDownloading libipld-3.1.1-cp311-cp311-manylinux_2_17_x86_64.manylinux2014_x86_64.whl (301 kB)\n",
            "\u001b[2K   \u001b[90m━━━━━━━━━━━━━━━━━━━━━━━━━━━━━━━━━━━━━━━━\u001b[0m \u001b[32m301.1/301.1 kB\u001b[0m \u001b[31m15.6 MB/s\u001b[0m eta \u001b[36m0:00:00\u001b[0m\n",
            "\u001b[?25hDownloading websockets-13.1-cp311-cp311-manylinux_2_5_x86_64.manylinux1_x86_64.manylinux_2_17_x86_64.manylinux2014_x86_64.whl (164 kB)\n",
            "\u001b[2K   \u001b[90m━━━━━━━━━━━━━━━━━━━━━━━━━━━━━━━━━━━━━━━━\u001b[0m \u001b[32m164.8/164.8 kB\u001b[0m \u001b[31m7.4 MB/s\u001b[0m eta \u001b[36m0:00:00\u001b[0m\n",
            "\u001b[?25hInstalling collected packages: websockets, libipld, dnspython, atproto\n",
            "  Attempting uninstall: websockets\n",
            "    Found existing installation: websockets 15.0.1\n",
            "    Uninstalling websockets-15.0.1:\n",
            "      Successfully uninstalled websockets-15.0.1\n",
            "\u001b[31mERROR: pip's dependency resolver does not currently take into account all the packages that are installed. This behaviour is the source of the following dependency conflicts.\n",
            "dataproc-spark-connect 0.8.3 requires websockets>=14.0, but you have websockets 13.1 which is incompatible.\u001b[0m\u001b[31m\n",
            "\u001b[0mSuccessfully installed atproto-0.0.61 dnspython-2.7.0 libipld-3.1.1 websockets-13.1\n"
          ]
        }
      ],
      "source": [
        "pip install atproto requests"
      ]
    },
    {
      "cell_type": "code",
      "source": [
        "from atproto import Client\n",
        "import re\n",
        "import atproto\n",
        "import json"
      ],
      "metadata": {
        "id": "jUg8fHTgPYzq"
      },
      "execution_count": null,
      "outputs": []
    },
    {
      "cell_type": "code",
      "source": [
        "USERNAME = \"\"\n",
        "PASSWORD = \"\"\n",
        "\n",
        "client = Client()\n",
        "client.login(USERNAME, PASSWORD)\n",
        "print(\"Login bem-sucedido!\")\n"
      ],
      "metadata": {
        "colab": {
          "base_uri": "https://localhost:8080/"
        },
        "id": "AGHLOoL0PZ8C",
        "outputId": "d9b02285-3eb2-41ed-d32c-2a9ab8bbe582"
      },
      "execution_count": null,
      "outputs": [
        {
          "output_type": "stream",
          "name": "stdout",
          "text": [
            "Login bem-sucedido!\n"
          ]
        }
      ]
    },
    {
      "cell_type": "code",
      "source": [
        "import json\n",
        "\n",
        "def get_post_details(post):\n",
        "    return {\n",
        "        \"text\": post.record.text or \"\",\n",
        "        \"Data_criacao\": post.record.created_at or \"\"\n",
        "    }\n",
        "\n",
        "def search_posts_multiple(client, keywords, limit=3000):\n",
        "    posts = []\n",
        "    seen_post_ids = set()\n",
        "    for keyword in keywords:\n",
        "        cursor = None\n",
        "        while len(posts) < limit:\n",
        "            params = {\n",
        "                'q': keyword,\n",
        "                'limit': min(50, limit - len(posts))\n",
        "            }\n",
        "            if cursor:\n",
        "                params['cursor'] = cursor\n",
        "\n",
        "            response = client.app.bsky.feed.search_posts(params)\n",
        "\n",
        "            for post in response.posts:\n",
        "                if post.uri not in seen_post_ids:\n",
        "                    posts.append(post)\n",
        "                    seen_post_ids.add(post.uri)\n",
        "\n",
        "            if not response.cursor:\n",
        "                break\n",
        "            cursor = response.cursor\n",
        "    return posts[:limit]\n",
        "\n",
        "def main():\n",
        "    keywords = [\"Mercado Livre\", \"mercado livre\"]\n",
        "    raw_posts = search_posts_multiple(client, keywords, limit=3000)\n",
        "\n",
        "    print(f\"Posts buscados: {len(raw_posts)}\")\n",
        "\n",
        "    post_details_list = [get_post_details(post) for post in raw_posts]\n",
        "\n",
        "    output_file = \"posts_mercado_livre_details.json\"\n",
        "    with open(output_file, \"w\", encoding=\"utf-8\") as f:\n",
        "        json.dump(post_details_list, f, indent=4, ensure_ascii=False)\n",
        "\n",
        "    print(f\"Salvo {len(post_details_list)} postagens em {output_file}\")\n",
        "\n",
        "if __name__ == \"__main__\":\n",
        "    main()\n"
      ],
      "metadata": {
        "colab": {
          "base_uri": "https://localhost:8080/"
        },
        "id": "03HCbhuji44J",
        "outputId": "e586fdc4-26e3-439d-fc80-0666cb5f9387"
      },
      "execution_count": null,
      "outputs": [
        {
          "output_type": "stream",
          "name": "stdout",
          "text": [
            "Posts buscados: 3000\n",
            "Salvo 3000 postagens em posts_mercado_livre_details.json\n"
          ]
        }
      ]
    },
    {
      "cell_type": "code",
      "source": [
        "with open(\"posts_mercado_livre_details.json\", \"r\", encoding=\"utf-8\") as f:\n",
        "    posts = json.load(f)\n",
        "\n",
        "print(f\"Posts originais: {len(posts)}\")\n",
        "\n",
        "def filtrar_por_texto(lista_posts):\n",
        "    return [post for post in lista_posts if post.get(\"text\") not in (None, \"\")]\n",
        "\n",
        "posts_filtrados = filtrar_por_texto(posts)\n",
        "\n",
        "print(f\"Posts após filtro por texto: {len(posts_filtrados)}\")\n",
        "\n",
        "with open(\"posts_mercado_livre_filtrados.json\", \"w\", encoding=\"utf-8\") as f:\n",
        "    json.dump(posts_filtrados, f, indent=4, ensure_ascii=False)\n"
      ],
      "metadata": {
        "colab": {
          "base_uri": "https://localhost:8080/"
        },
        "id": "ck0UZXRRZmiG",
        "outputId": "e4b3c61d-d557-4fbc-d8df-cd7a746dcc89"
      },
      "execution_count": null,
      "outputs": [
        {
          "output_type": "stream",
          "name": "stdout",
          "text": [
            "Posts originais: 3000\n",
            "Posts após filtro por texto: 3000\n"
          ]
        }
      ]
    },
    {
      "cell_type": "code",
      "source": [
        "import json\n",
        "import requests\n",
        "\n",
        "# 1. Caminho do arquivo JSON local\n",
        "json_path = \"/content/posts_mercado_livre_filtrados.json\"\n",
        "\n",
        "# 2. URL gerada pelo Power Automate\n",
        "# Substitua pela URL do seu gatilho \"Quando uma solicitação HTTP é recebida\"\n",
        "power_automate_url = \"https://prod-187.westus.logic.azure.com:443/workflows/834fb8eeb28d4a8bb026f3dd20da5ad2/triggers/manual/paths/invoke?api-version=2016-06-01&sp=%2Ftriggers%2Fmanual%2Frun&sv=1.0&sig=Fxf91NKyr7khMTD8H0fCfzOT32Wd0d2lVFHcpPgh-BQ\"\n",
        "\n",
        "# 3. Ler o arquivo JSON\n",
        "with open(json_path, \"r\", encoding=\"utf-8\") as f:\n",
        "    data = json.load(f)\n",
        "\n",
        "# 4. Enviar para o Power Automate\n",
        "headers = {\"Content-Type\": \"application/json\"}\n",
        "response = requests.post(power_automate_url, headers=headers, json=data)\n",
        "\n",
        "# 5. Resultado\n",
        "if response.status_code == 200 or response.status_code == 202:\n",
        "    print(\"✅ Dados enviados com sucesso!\")\n",
        "else:\n",
        "    print(f\"❌ Erro ao enviar: {response.status_code} - {response.text}\")\n"
      ],
      "metadata": {
        "colab": {
          "base_uri": "https://localhost:8080/"
        },
        "id": "F2cTEL5vEMfu",
        "outputId": "137ef7f4-5037-4fb0-b438-cb6de6db747e"
      },
      "execution_count": null,
      "outputs": [
        {
          "output_type": "stream",
          "name": "stdout",
          "text": [
            "✅ Dados enviados com sucesso!\n"
          ]
        }
      ]
    }
  ]
}